{
  "cells": [
    {
      "cell_type": "code",
      "execution_count": null,
      "metadata": {
        "collapsed": false
      },
      "outputs": [],
      "source": [
        "%matplotlib inline"
      ]
    },
    {
      "cell_type": "markdown",
      "metadata": {},
      "source": [
        "\nSemantic variation in the \"Midwest\"\n===================================\n\nBenchmark of encoders for the midwest_survey dataset\n\n"
      ]
    },
    {
      "cell_type": "code",
      "execution_count": null,
      "metadata": {
        "collapsed": false
      },
      "outputs": [],
      "source": [
        "import numpy as np\nfrom scipy import sparse\n\nimport pandas as pd\n\nfrom sklearn.preprocessing import FunctionTransformer\nfrom sklearn.preprocessing import LabelEncoder\nfrom sklearn.preprocessing import OneHotEncoder\nfrom sklearn.ensemble import RandomForestClassifier\nfrom sklearn.model_selection import cross_val_score\n\nfrom dirty_cat import datasets\nfrom dirty_cat import SimilarityEncoder\n\n\n# encoding methods\nencoder_dict = {\n    'one-hot': OneHotEncoder(handle_unknown='ignore'),\n    'similarity': SimilarityEncoder(similarity='ngram',\n                                    handle_unknown='ignore'),\n    'num': FunctionTransformer(None)\n    }\n\ndata_file = datasets.fetch_midwest_survey()\n\nfor method in ['one-hot', 'similarity']:\n    df = pd.read_csv(data_file).astype(str)\n\n    target_column = 'Location (Census Region)'\n    y = df[target_column].values.ravel()\n\n    feature_columns = [\n        ('In your own words, what would you call the part of the country '\n         'you live in now?', method),\n        ('Personally identification as a Midwesterner?', 'one-hot'),\n        ('Illinois in MW?', 'one-hot'),\n        ('Indiana in MW?', 'one-hot'),\n        ('Kansas in MW?', 'one-hot'),\n        ('Iowa in MW?', 'one-hot'),\n        ('Michigan in MW?', 'one-hot'),\n        ('Minnesota in MW?', 'one-hot'),\n        ('Missouri in MW?', 'one-hot'),\n        ('Nebraska in MW?', 'one-hot'),\n        ('North Dakota in MW?', 'one-hot'),\n        ('Ohio in MW?', 'one-hot'),\n        ('South Dakota in MW?', 'one-hot'),\n        ('Wisconsin in MW?', 'one-hot'),\n        ('Arkansas in MW?', 'one-hot'),\n        ('Colorado in MW?', 'one-hot'),\n        ('Kentucky in MW?', 'one-hot'),\n        ('Oklahoma in MW?', 'one-hot'),\n        ('Pennsylvania in MW?', 'one-hot'),\n        ('West Virginia in MW?', 'one-hot'),\n        ('Montana in MW?', 'one-hot'),\n        ('Wyoming in MW?', 'one-hot'),\n        ('Gender', 'one-hot'),\n        ('Age', 'one-hot'),\n        ('Household Income', 'one-hot'),\n        ('Education', 'one-hot'),\n        ]\n    # LabelEncoder before using OneHotEncoder\n    label_encoder = LabelEncoder()\n    onehot_columns = [col for col, enc in feature_columns if enc == 'one-hot']\n    df[onehot_columns] = df[onehot_columns].apply(label_encoder.fit_transform)\n\n    X = [encoder_dict[encoder].fit_transform(df[column].values.reshape(-1, 1))\n         for column, encoder in feature_columns]\n    X = sparse.hstack(X)\n\n    # Now predict whether or not each row is about the midwest\n    classifier = RandomForestClassifier(random_state=5)\n    print('%s encoding' % method)\n    scores = cross_val_score(classifier, X, y, cv=5)\n    print('Accuracy:  mean: %.3f; std: %.3f\\n'\n          % (np.mean(scores), np.std(scores)))"
      ]
    }
  ],
  "metadata": {
    "kernelspec": {
      "display_name": "Python 3",
      "language": "python",
      "name": "python3"
    },
    "language_info": {
      "codemirror_mode": {
        "name": "ipython",
        "version": 3
      },
      "file_extension": ".py",
      "mimetype": "text/x-python",
      "name": "python",
      "nbconvert_exporter": "python",
      "pygments_lexer": "ipython3",
      "version": "3.6.4"
    }
  },
  "nbformat": 4,
  "nbformat_minor": 0
}