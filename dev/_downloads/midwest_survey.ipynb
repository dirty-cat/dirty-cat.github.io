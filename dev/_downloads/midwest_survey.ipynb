{
  "cells": [
    {
      "cell_type": "code",
      "execution_count": null,
      "metadata": {
        "collapsed": false
      },
      "outputs": [],
      "source": [
        "%matplotlib inline"
      ]
    },
    {
      "cell_type": "markdown",
      "metadata": {},
      "source": [
        "\nSemantic variation in the \"Midwest\"\n===================================\n\nBenchmark of encoders for the midwest_survey dataset: the data comprises\nan open-ended question, on which one-hot encoding does not work well.\n\nSimilarity encoding on this column gives much improved performance.\n\n\n"
      ]
    },
    {
      "cell_type": "code",
      "execution_count": null,
      "metadata": {
        "collapsed": false
      },
      "outputs": [],
      "source": [
        "import numpy as np\nfrom scipy import sparse\n\nimport pandas as pd\n\nfrom sklearn.preprocessing import FunctionTransformer\nfrom sklearn.preprocessing import LabelEncoder\nfrom sklearn.preprocessing import OneHotEncoder\nfrom sklearn.ensemble import RandomForestClassifier\nfrom sklearn.model_selection import StratifiedKFold\n\nfrom dirty_cat import datasets\nfrom dirty_cat import SimilarityEncoder\n\n\n# encoding methods\nencoder_dict = {\n    'one-hot': OneHotEncoder(handle_unknown='ignore'),\n    'similarity': SimilarityEncoder(similarity='ngram',\n                                    handle_unknown='ignore'),\n    'num': FunctionTransformer(None)\n    }\n\ndata_file = datasets.fetch_midwest_survey()\n\nfor method in ['one-hot', 'similarity']:\n    # Load the data\n    df = pd.read_csv(data_file).astype(str)\n\n    target_column = 'Location (Census Region)'\n    y = df[target_column].values.ravel()\n\n    # Transform the data into a numerical matrix\n    encoder_type = {\n        'one-hot': [\n            'Personally identification as a Midwesterner?',\n            'Illinois in MW?',\n            'Indiana in MW?',\n            'Kansas in MW?',\n            'Iowa in MW?',\n            'Michigan in MW?',\n            'Minnesota in MW?',\n            'Missouri in MW?',\n            'Nebraska in MW?',\n            'North Dakota in MW?',\n            'Ohio in MW?',\n            'South Dakota in MW?',\n            'Wisconsin in MW?',\n            'Arkansas in MW?',\n            'Colorado in MW?',\n            'Kentucky in MW?',\n            'Oklahoma in MW?',\n            'Pennsylvania in MW?',\n            'West Virginia in MW?',\n            'Montana in MW?',\n            'Wyoming in MW?',\n            'Gender',\n            'Age',\n            'Household Income',\n            'Education']\n        }\n    try:\n        encoder_type[method].append(\n            'In your own words, what would you call the part of the country '\n            'you live in now?')\n    except KeyError:\n        encoder_type[method] = ('In your own words, what would you call the '\n                               'part of the country you live in now?')\n\n    # OneHotEncoder needs numerical data, hence we first use LabelEncoder\n    label_encoder = LabelEncoder()\n    df[encoder_type['one-hot']] = df[\n        encoder_type['one-hot']].apply(label_encoder.fit_transform)\n\n    cv = StratifiedKFold(n_splits=3, random_state=12, shuffle=True)\n\n    scores = []\n    for train_index, test_index in cv.split(df, df[target_column]):\n        X_train = [\n            encoder_dict[encoder].fit_transform(\n            df.loc[train_index, encoder_type[encoder]\n                   ].values.reshape(len(train_index), -1))\n            for encoder in encoder_type]\n        X_train = sparse.hstack(X_train)\n        y_train = y[train_index]\n\n        X_test = [\n            encoder_dict[encoder].transform(\n            df.loc[test_index, encoder_type[encoder]\n                   ].values.reshape(len(test_index), -1))\n            for encoder in encoder_type]\n        X_test = sparse.hstack(X_test)\n        y_test = y[test_index]\n        X_test.shape\n        X_train.shape\n        \n        # Now predict the census region of each participant\n        classifier = RandomForestClassifier(random_state=5)\n        classifier.fit(X_train, y_train)\n        score = classifier.score(X_test, y_test)\n        scores.append(score)\n\n    print('%s encoding' % method)\n    print('Accuracy score:  mean: %.3f; std: %.3f\\n'\n          % (np.mean(scores), np.std(scores)))"
      ]
    }
  ],
  "metadata": {
    "kernelspec": {
      "display_name": "Python 3",
      "language": "python",
      "name": "python3"
    },
    "language_info": {
      "codemirror_mode": {
        "name": "ipython",
        "version": 3
      },
      "file_extension": ".py",
      "mimetype": "text/x-python",
      "name": "python",
      "nbconvert_exporter": "python",
      "pygments_lexer": "ipython3",
      "version": "3.6.5"
    }
  },
  "nbformat": 4,
  "nbformat_minor": 0
}