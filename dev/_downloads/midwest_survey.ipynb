{
  "cells": [
    {
      "cell_type": "code",
      "execution_count": null,
      "metadata": {
        "collapsed": false
      },
      "outputs": [],
      "source": [
        "%matplotlib inline"
      ]
    },
    {
      "cell_type": "markdown",
      "metadata": {},
      "source": [
        "\nSemantic variation in the \"midwest\"\n====================================\n\nbase example script. the midwest survey datasets will be included in the\npackage because of its small size (500kb)\n\n"
      ]
    },
    {
      "cell_type": "code",
      "execution_count": null,
      "metadata": {
        "collapsed": false
      },
      "outputs": [],
      "source": [
        "import numpy as np\nfrom scipy import sparse\n\nfrom sklearn.pipeline import FeatureUnion\nfrom sklearn.pipeline import Pipeline\nfrom sklearn.preprocessing import FunctionTransformer\nfrom sklearn.preprocessing import StandardScaler\nfrom sklearn.preprocessing import LabelEncoder\nfrom sklearn.preprocessing import OneHotEncoder\nfrom sklearn.ensemble import RandomForestClassifier\nfrom sklearn.model_selection import cross_val_score\n\nfrom dirty_cat.datasets import fetch_midwest_survey\nfrom dirty_cat.similarity_encoder import SimilarityEncoder\n\n\n# encoding methods\nencoder_dict = {\n    'onehot': OneHotEncoder(handle_unknown='ignore'),\n    'similarity': SimilarityEncoder(similarity='ngram',\n                                    handle_unknown='ignore'),\n    'num': FunctionTransformer(None)\n    }\n\n\nfor method in ['onehot', 'similarity']:\n    df = fetch_midwest_survey().astype(str)\n\n    target_column = 'Location (Census Region)'\n    y = df[target_column].values.ravel()\n\n    feature_columns = [\n        ('In your own words, what would you call the part of the country '\n         'you live in now?', method),\n        ('Wyoming in MW?', 'onehot'),\n        ('Age', 'onehot')\n        ]\n    # LabelEncoder before using OneHotEncoder\n    label_encoder = LabelEncoder()\n    onehot_columns = [col for col, enc in feature_columns if enc == 'onehot']\n    df[onehot_columns] = df[onehot_columns].apply(label_encoder.fit_transform)\n\n    X = [encoder_dict[encoder].fit_transform(df[column].values.reshape(-1, 1))\n         for column, encoder in feature_columns]\n    X = sparse.hstack(X)\n\n    pipeline = Pipeline([\n                         ('scaler', StandardScaler(with_mean=False)),\n                         ('classifier', RandomForestClassifier(\n                             random_state=12))\n                         ])\n\n    print(method)\n    scores = cross_val_score(pipeline, X, y, cv=5)\n    print('Accuracy:  mean: %.3f; std: %.3f\\n'\n          % (np.mean(scores), np.std(scores)))"
      ]
    }
  ],
  "metadata": {
    "kernelspec": {
      "display_name": "Python 3",
      "language": "python",
      "name": "python3"
    },
    "language_info": {
      "codemirror_mode": {
        "name": "ipython",
        "version": 3
      },
      "file_extension": ".py",
      "mimetype": "text/x-python",
      "name": "python",
      "nbconvert_exporter": "python",
      "pygments_lexer": "ipython3",
      "version": "3.6.4"
    }
  },
  "nbformat": 4,
  "nbformat_minor": 0
}