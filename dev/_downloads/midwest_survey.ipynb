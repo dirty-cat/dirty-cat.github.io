{
  "cells": [
    {
      "cell_type": "code",
      "execution_count": null,
      "metadata": {
        "collapsed": false
      },
      "outputs": [],
      "source": [
        "%matplotlib inline"
      ]
    },
    {
      "cell_type": "markdown",
      "metadata": {},
      "source": [
        "\nSemantic variation in the \"midwest\"\n====================================\n\nbase example script. the midwest survey datasets will be included in the\npackage because of its small size (500kb)\n\n"
      ]
    },
    {
      "cell_type": "code",
      "execution_count": null,
      "metadata": {
        "collapsed": false
      },
      "outputs": [],
      "source": [
        "from dirty_cat.datasets import fetch_midwest_survey\nfrom dirty_cat.similarity_encoder import SimilarityEncoder\n\nif __name__ == '__main__':\n    data = fetch_midwest_survey().astype(str)\n    se = SimilarityEncoder()\n    # take only first 100 rows for speed limitations\n    transformed_data = se.fit_transform(\n        data.iloc[:, 1].values.reshape((-1, 1)))"
      ]
    }
  ],
  "metadata": {
    "kernelspec": {
      "display_name": "Python 3",
      "language": "python",
      "name": "python3"
    },
    "language_info": {
      "codemirror_mode": {
        "name": "ipython",
        "version": 3
      },
      "file_extension": ".py",
      "mimetype": "text/x-python",
      "name": "python",
      "nbconvert_exporter": "python",
      "pygments_lexer": "ipython3",
      "version": "3.6.4"
    }
  },
  "nbformat": 4,
  "nbformat_minor": 0
}