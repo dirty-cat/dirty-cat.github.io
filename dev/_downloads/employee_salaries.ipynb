{
  "cells": [
    {
      "cell_type": "code",
      "execution_count": null,
      "metadata": {
        "collapsed": false
      },
      "outputs": [],
      "source": [
        "%matplotlib inline"
      ]
    },
    {
      "cell_type": "markdown",
      "metadata": {},
      "source": [
        "\nPredicting the salary of employees\n==================================\n\nBenchmark of encoders for the \"employee_salaries\" dataset.\n\nSimilarity encoding on this column gives much improved performance.\n\n\n"
      ]
    },
    {
      "cell_type": "code",
      "execution_count": null,
      "metadata": {
        "collapsed": false
      },
      "outputs": [],
      "source": [
        "import numpy as np\nfrom scipy import sparse\n\nimport pandas as pd\n\nfrom sklearn.preprocessing import FunctionTransformer\nfrom sklearn.preprocessing import LabelEncoder\nfrom sklearn.preprocessing import OneHotEncoder\nfrom sklearn.linear_model import RidgeCV\nfrom sklearn.model_selection import KFold\n\nfrom dirty_cat import datasets\nfrom dirty_cat import SimilarityEncoder, TargetEncoder\n\n\n# encoding methods\nencoder_dict = {\n    'one-hot': OneHotEncoder(handle_unknown='ignore'),\n    'similarity': SimilarityEncoder(similarity='ngram',\n                                    handle_unknown='ignore'),\n    'target': TargetEncoder(handle_unknown='ignore'),\n    'num': FunctionTransformer(None)\n    }\n\ndata_file = datasets.fetch_employee_salaries()\n\nfor method in ['one-hot', 'similarity']:\n    # Load the data\n    df = pd.read_csv(data_file).astype(str)\n    df['Current Annual Salary'] = [float(s[1:]) for s\n                                   in df['Current Annual Salary']]\n    df['Year First Hired'] = [int(s.split('/')[-1])\n                              for s in df['Date First Hired']]\n\n    target_column = 'Current Annual Salary'\n    y = df[target_column].values.ravel()\n\n    # Transform the data into a numerical matrix\n    encoder_type = {\n        'one-hot': ['Gender', 'Department Name', 'Assignment Category'],\n        'num': ['Year First Hired']\n        }\n    try:\n        encoder_type[method].append('Employee Position Title')\n    except KeyError:\n        encoder_type[method] = ['Employee Position Title']\n\n    # OneHotEncoder needs numerical data, hence we first use LabelEncoder\n    label_encoder = LabelEncoder()\n    df[encoder_type['one-hot']] = df[\n        encoder_type['one-hot']].apply(label_encoder.fit_transform)\n\n    cv = KFold(n_splits=3, random_state=12, shuffle=True)\n\n    scores = []\n    for train_index, test_index in cv.split(df, df[target_column]):\n        y_train = y[train_index]\n        X_train = [\n            encoder_dict[encoder].fit_transform(\n                df.loc[train_index, encoder_type[encoder]\n                       ].values.reshape(len(train_index), -1))\n            for encoder in encoder_type]\n        X_train = sparse.hstack(X_train).toarray()\n\n        y_test = y[test_index]\n        X_test = [\n            encoder_dict[encoder].transform(\n                 df.loc[test_index, encoder_type[encoder]\n                        ].values.reshape(len(test_index), -1))\n            for encoder in encoder_type]\n        X_test = sparse.hstack(X_test).toarray()\n        X_test.shape\n        X_train.shape\n        # Now predict whether or not each row is about the midwest\n        classifier = RidgeCV()\n        classifier.fit(X_train, y_train)\n        score = classifier.score(X_test, y_test)\n        scores.append(score)\n\n    print('%s encoding' % method)\n    print('R^2 score:  mean: %.3f; std: %.3f\\n'\n          % (np.mean(scores), np.std(scores)))"
      ]
    }
  ],
  "metadata": {
    "kernelspec": {
      "display_name": "Python 3",
      "language": "python",
      "name": "python3"
    },
    "language_info": {
      "codemirror_mode": {
        "name": "ipython",
        "version": 3
      },
      "file_extension": ".py",
      "mimetype": "text/x-python",
      "name": "python",
      "nbconvert_exporter": "python",
      "pygments_lexer": "ipython3",
      "version": "3.6.4"
    }
  },
  "nbformat": 4,
  "nbformat_minor": 0
}