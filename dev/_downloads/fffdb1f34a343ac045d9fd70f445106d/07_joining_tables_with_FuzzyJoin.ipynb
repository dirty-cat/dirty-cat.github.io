{
  "cells": [
    {
      "cell_type": "code",
      "execution_count": null,
      "metadata": {
        "collapsed": false
      },
      "outputs": [],
      "source": [
        "%matplotlib inline"
      ]
    },
    {
      "cell_type": "markdown",
      "metadata": {},
      "source": [
        "\n# Merging dirty tables: fuzzy join\n\nHere we show how to combine data from different sources,\nwith a vocabulary not well normalized.\nJoining is difficult: one entry on one side does not have\nan exact match on the other side.\n\nIn this example, the :func:`fuzzy_join` function allows us to join\ntables without cleaning the data by taking into account the\nlabel variations.\n\nTo illustrate, we will join data from the [2022 World Happiness Report](https://worldhappiness.report/).\nwith tables provided in [the World Bank open data platform](https://data.worldbank.org/)\nin order to create a satisfying first prediction model.\n"
      ]
    },
    {
      "cell_type": "markdown",
      "metadata": {},
      "source": [
        "## Data Importing and preprocessing\n\nWe import the happiness score table first:\n\n"
      ]
    },
    {
      "cell_type": "code",
      "execution_count": null,
      "metadata": {
        "collapsed": false
      },
      "outputs": [],
      "source": [
        "import pandas as pd\n\ndf = pd.read_csv(\n    \"https://raw.githubusercontent.com/dirty-cat/datasets/master/data/Happiness_report_2022.csv\",\n    thousands=\",\",\n)\ndf.drop(df.tail(1).index, inplace=True)"
      ]
    },
    {
      "cell_type": "markdown",
      "metadata": {},
      "source": [
        "Let's look at the table:\n\n"
      ]
    },
    {
      "cell_type": "code",
      "execution_count": null,
      "metadata": {
        "collapsed": false
      },
      "outputs": [],
      "source": [
        "df.head(3)"
      ]
    },
    {
      "cell_type": "markdown",
      "metadata": {},
      "source": [
        "This is a table that contains the happiness index of a country along with\nsome of the possible explanatory factors: GDP per capita, Social support,\nGenerosity etc.\n\nFor more information, read the [World Happiness Report](https://worldhappiness.report/).\n\n"
      ]
    },
    {
      "cell_type": "code",
      "execution_count": null,
      "metadata": {
        "collapsed": false
      },
      "outputs": [],
      "source": [
        "X = df[[\"Country\"]]\ny = df[[\"Happiness score\"]]"
      ]
    },
    {
      "cell_type": "markdown",
      "metadata": {},
      "source": [
        "We keep the country names in our X table and we create\nthe y table with the happiness score (our prediction target).\n\n\nNow, we need to include explanatory factors from other tables.\nWhat can we add from the available open public datasets to complete\nour X table?\n\n"
      ]
    },
    {
      "cell_type": "markdown",
      "metadata": {},
      "source": [
        "## Finding additional tables\n\nInteresting tables can be found on [the World Bank open data platform](https://data.worldbank.org/).\nWe will extract data from it and include them in our model.\nLuckily, the following function helps us do it easily:\n\n"
      ]
    },
    {
      "cell_type": "code",
      "execution_count": null,
      "metadata": {
        "collapsed": false
      },
      "outputs": [],
      "source": [
        "from dirty_cat.datasets import fetch_world_bank_indicator"
      ]
    },
    {
      "cell_type": "markdown",
      "metadata": {},
      "source": [
        "We extract the table containing GDP per capita by country:\n\n"
      ]
    },
    {
      "cell_type": "code",
      "execution_count": null,
      "metadata": {
        "collapsed": false
      },
      "outputs": [],
      "source": [
        "gdppc = fetch_world_bank_indicator(indicator_id=\"NY.GDP.PCAP.CD\").X\ngdppc.head(3)"
      ]
    },
    {
      "cell_type": "markdown",
      "metadata": {},
      "source": [
        "Then another table, with life expectancy by country:\n\n"
      ]
    },
    {
      "cell_type": "code",
      "execution_count": null,
      "metadata": {
        "collapsed": false
      },
      "outputs": [],
      "source": [
        "life_exp = fetch_world_bank_indicator(\"SP.DYN.LE00.IN\", \"life_exp\").X\nlife_exp.head(3)"
      ]
    },
    {
      "cell_type": "markdown",
      "metadata": {},
      "source": [
        "And a table with legal rights strength by country:\n\n"
      ]
    },
    {
      "cell_type": "code",
      "execution_count": null,
      "metadata": {
        "collapsed": false
      },
      "outputs": [],
      "source": [
        "legal_rights = fetch_world_bank_indicator(\"IC.LGL.CRED.XQ\").X\nlegal_rights.head(3)"
      ]
    },
    {
      "cell_type": "markdown",
      "metadata": {},
      "source": [
        "## Joining World Bank tables to our initial one\n\nSo now we have our initial table, X, and 3 additional ones that we have\nextracted.\n\n\n"
      ]
    },
    {
      "cell_type": "markdown",
      "metadata": {},
      "source": [
        "### 1. Joining GDP per capita table\n\nTo join them with dirty_cat, we only need to do the following:\n\n"
      ]
    },
    {
      "cell_type": "code",
      "execution_count": null,
      "metadata": {
        "collapsed": false
      },
      "outputs": [],
      "source": [
        "from dirty_cat import fuzzy_join\n\nX1 = fuzzy_join(\n    X,  # our table to join\n    gdppc,  # the table to join with\n    left_on=\"Country\",  # the first join key column\n    right_on=\"Country Name\",  # the second join key column\n    return_score=True,\n)\n\nX1.head(20)\n# We merged the first WB table to our initial one."
      ]
    },
    {
      "cell_type": "markdown",
      "metadata": {},
      "source": [
        ".. topic:: Note:\n\n   We fix the `return_score` parameter to `True` so as to keep the matching\n   score, that we will use later to show what are the worst matches.\n\n"
      ]
    },
    {
      "cell_type": "markdown",
      "metadata": {},
      "source": [
        "We see that our :func:`fuzzy_join` succesfully identified the countries,\neven though some country names differ between tables.\n\nFor instance, 'Czechia' is well identified as 'Czech Republic' and\n'Luxembourg*' as 'Luxembourg'.\n\n.. topic:: Note:\n\n   This would all be missed out if we were using other methods such as\n   [pandas.merge](https://pandas.pydata.org/pandas-docs/stable/reference/api/pandas.merge.html),\n   which can only find exact matches.\n   In this case, to reach the best result, we would have to 'manually' clean\n   the data (e.g. remove the * after country name) and look\n   for matching patterns in every observation.\n\nLet's do some more inspection of the merging done.\n\n"
      ]
    },
    {
      "cell_type": "markdown",
      "metadata": {},
      "source": [
        "The best way to inspect the matches is to use the following function:\n\n"
      ]
    },
    {
      "cell_type": "code",
      "execution_count": null,
      "metadata": {
        "collapsed": false
      },
      "outputs": [],
      "source": [
        "import numpy as np\n\n\ndef print_worst_matches(joined_table, n=5):\n    \"\"\"Prints n worst matches for inspection.\"\"\"\n    max_ind = np.argsort(joined_table[\"matching_score\"], axis=0)[:n]\n    max_dist = pd.Series(\n        joined_table[\"matching_score\"][max_ind.ravel()].ravel(), index=max_ind.ravel()\n    )\n    worst_matches = joined_table.iloc[list(max_ind.ravel())]\n    worst_matches = worst_matches.assign(matching_score=max_dist)\n    return worst_matches"
      ]
    },
    {
      "cell_type": "markdown",
      "metadata": {},
      "source": [
        "Let's print the four worst matches, which will give\nus an overview of the situation:\n\n"
      ]
    },
    {
      "cell_type": "code",
      "execution_count": null,
      "metadata": {
        "collapsed": false
      },
      "outputs": [],
      "source": [
        "print_worst_matches(X1, n=4)"
      ]
    },
    {
      "cell_type": "markdown",
      "metadata": {},
      "source": [
        "We see that some matches were unsuccesful\n(e.g 'Palestinian Territories*' and 'Palau'),\nbecause there is simply no match in the two tables.\n\n"
      ]
    },
    {
      "cell_type": "markdown",
      "metadata": {},
      "source": [
        "In this case, it is better to use the threshold parameter\nso as to include only precise-enough matches:\n\n\n"
      ]
    },
    {
      "cell_type": "code",
      "execution_count": null,
      "metadata": {
        "collapsed": false
      },
      "outputs": [],
      "source": [
        "X1 = fuzzy_join(\n    X,\n    gdppc,\n    left_on=\"Country\",\n    right_on=\"Country Name\",\n    match_score=0.35,\n    return_score=True,\n)\nprint_worst_matches(X1, n=4)"
      ]
    },
    {
      "cell_type": "markdown",
      "metadata": {},
      "source": [
        "Matches that are not available (or precise enough) are marked as `NaN`.\nWe will remove them, as well as missing or unused information:\n\n"
      ]
    },
    {
      "cell_type": "code",
      "execution_count": null,
      "metadata": {
        "collapsed": false
      },
      "outputs": [],
      "source": [
        "mask = X1[\"GDP per capita (current US$)\"].notna()\nX1 = X1[mask]\ny = np.ravel(y[mask])\n\nX1.drop([\"matching_score\"], axis=1, inplace=True)"
      ]
    },
    {
      "cell_type": "markdown",
      "metadata": {},
      "source": [
        "We can finally plot and look at the link between GDP per capita\nand happiness:\n\n"
      ]
    },
    {
      "cell_type": "code",
      "execution_count": null,
      "metadata": {
        "collapsed": false
      },
      "outputs": [],
      "source": [
        "import matplotlib.pyplot as plt\nimport seaborn as sns\n\nsns.set_context(\"notebook\")\n\nplt.figure(figsize=(4, 3))\nax = sns.regplot(x=X1[\"GDP per capita (current US$)\"], y=y, lowess=True)\nax.set_ylabel(\"Happiness index\")\nax.set_title(\"Is a higher GDP per capita linked to happiness?\")\nplt.tight_layout()\nplt.show()"
      ]
    },
    {
      "cell_type": "markdown",
      "metadata": {},
      "source": [
        "It seems that the happiest countries are those\nhaving a high GDP per capita.\nHowever, unhappy countries do not have only low levels\nof GDP per capita. We have to search for other patterns.\n\n"
      ]
    },
    {
      "cell_type": "markdown",
      "metadata": {},
      "source": [
        "### 2. Joining life expectancy table\n\nNow let's include other information that may be relevant, such as\nlife expectancy table:\n\n"
      ]
    },
    {
      "cell_type": "code",
      "execution_count": null,
      "metadata": {
        "collapsed": false
      },
      "outputs": [],
      "source": [
        "X2 = fuzzy_join(\n    X1,\n    life_exp,\n    left_on=\"Country\",\n    right_on=\"Country Name\",\n    match_score=0.45,\n    how=\"left\",\n)\n\nX2.head(3)"
      ]
    },
    {
      "cell_type": "markdown",
      "metadata": {},
      "source": [
        "Let's plot this relation:\n\n"
      ]
    },
    {
      "cell_type": "code",
      "execution_count": null,
      "metadata": {
        "collapsed": false
      },
      "outputs": [],
      "source": [
        "plt.figure(figsize=(4, 3))\nfig = sns.regplot(x=X2[\"Life expectancy at birth, total (years)\"], y=y, lowess=True)\nfig.set_ylabel(\"Happiness index\")\nfig.set_title(\"Is a higher life expectancy linked to happiness?\")\nplt.tight_layout()\nplt.show()"
      ]
    },
    {
      "cell_type": "markdown",
      "metadata": {},
      "source": [
        "It seems the answer is yes!\nCountries with higher life expectancy are also happier.\n\n"
      ]
    },
    {
      "cell_type": "markdown",
      "metadata": {},
      "source": [
        "### 3. Joining legal rights strength table\n.. topic:: Note:\n\n   Here, we use the `keep='left'` option to keep only the left key matching\n   column, so as not to have unnecessary overlaping column with country names.\n\nAnd the table with a measure of legal rights strength in the country:\n\n"
      ]
    },
    {
      "cell_type": "code",
      "execution_count": null,
      "metadata": {
        "collapsed": false
      },
      "outputs": [],
      "source": [
        "X3 = fuzzy_join(\n    X2,\n    legal_rights,\n    left_on=\"Country\",\n    right_on=\"Country Name\",\n    match_score=0.45,\n    how=\"left\",\n)\n\nX3.head(3)"
      ]
    },
    {
      "cell_type": "markdown",
      "metadata": {},
      "source": [
        "Let's take a look at their correspondance in a figure:\n\n"
      ]
    },
    {
      "cell_type": "code",
      "execution_count": null,
      "metadata": {
        "collapsed": false
      },
      "outputs": [],
      "source": [
        "plt.figure(figsize=(4, 3))\nfig = sns.regplot(\n    x=X3[\"Strength of legal rights index (0=weak to 12=strong)\"], y=y, lowess=True\n)\nfig.set_ylabel(\"Happiness index\")\nfig.set_title(\"Does a country's legal rights strength lead to happiness?\")\nplt.tight_layout()\nplt.show()"
      ]
    },
    {
      "cell_type": "markdown",
      "metadata": {},
      "source": [
        "From this plot, it is not clear that this measure of legal strength\nis linked to happiness.\n\n"
      ]
    },
    {
      "cell_type": "markdown",
      "metadata": {},
      "source": [
        "Great! Our joined table has became bigger and full of useful informations.\nAnd now we are ready to apply a first machine learning model to it!\n\n"
      ]
    },
    {
      "cell_type": "markdown",
      "metadata": {},
      "source": [
        "## Prediction model\n\nLet us now define the model that will be used to predict the happiness score:\n\n"
      ]
    },
    {
      "cell_type": "code",
      "execution_count": null,
      "metadata": {
        "collapsed": false
      },
      "outputs": [],
      "source": [
        "from sklearn import __version__ as sklearn_version\n\nif sklearn_version < \"1.0\":\n    from sklearn.experimental import enable_hist_gradient_boosting\nfrom sklearn.ensemble import HistGradientBoostingRegressor\nfrom sklearn.model_selection import KFold\n\nhgdb = HistGradientBoostingRegressor(random_state=0)\ncv = KFold(n_splits=2, shuffle=True, random_state=0)"
      ]
    },
    {
      "cell_type": "markdown",
      "metadata": {},
      "source": [
        "To evaluate our model, we will apply a `4-fold cross-validation`.\nWe evaluate our model using the `R2` score.\n\nLet's finally assess the results of our models:\n\n"
      ]
    },
    {
      "cell_type": "code",
      "execution_count": null,
      "metadata": {
        "collapsed": false
      },
      "outputs": [],
      "source": [
        "from sklearn.model_selection import cross_validate\n\ncv_results_t = cross_validate(\n    hgdb, X3.select_dtypes(exclude=object), y, cv=cv, scoring=\"r2\"\n)\n\ncv_r2_t = cv_results_t[\"test_score\"]\n\nprint(\n    f\"Mean R2 score with {len(X3.columns) - 2} feature columns is\"\n    f\" {cv_r2_t.mean():.2f} +- {cv_r2_t.std():.2f}\"\n)"
      ]
    },
    {
      "cell_type": "markdown",
      "metadata": {},
      "source": [
        "We have a satisfying first result: an R2 of 0.63!\n\nData cleaning varies from dataset to dataset: there are as\nmany ways to clean a table as there are errors. :func:`fuzzy_join`\nmethod is generalizable across all datasets.\n\nData transformation is also often very costly in both time and ressources.\n:func:`fuzzy_join` is fast and easy-to-use.\n\nNow up to you, try improving our model by adding information into it and\nbeating our result!\n\n"
      ]
    }
  ],
  "metadata": {
    "kernelspec": {
      "display_name": "Python 3",
      "language": "python",
      "name": "python3"
    },
    "language_info": {
      "codemirror_mode": {
        "name": "ipython",
        "version": 3
      },
      "file_extension": ".py",
      "mimetype": "text/x-python",
      "name": "python",
      "nbconvert_exporter": "python",
      "pygments_lexer": "ipython3",
      "version": "3.8.13"
    }
  },
  "nbformat": 4,
  "nbformat_minor": 0
}